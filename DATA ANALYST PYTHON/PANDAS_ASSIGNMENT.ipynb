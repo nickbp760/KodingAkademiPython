{
  "nbformat": 4,
  "nbformat_minor": 0,
  "metadata": {
    "colab": {
      "provenance": [],
      "collapsed_sections": [
        "jRKZy_sLUWWY"
      ]
    },
    "kernelspec": {
      "name": "python3",
      "display_name": "Python 3"
    },
    "language_info": {
      "name": "python"
    }
  },
  "cells": [
    {
      "cell_type": "markdown",
      "source": [
        "### **PANDAS ASSIGMENT**"
      ],
      "metadata": {
        "id": "jRKZy_sLUWWY"
      }
    },
    {
      "cell_type": "markdown",
      "source": [
        "## *SERIES*"
      ],
      "metadata": {
        "id": "I2NxsKhXbdvo"
      }
    },
    {
      "cell_type": "markdown",
      "source": [
        "**Creating Indexing, Selecting a Series**"
      ],
      "metadata": {
        "id": "GSfhTg88Udvw"
      }
    },
    {
      "cell_type": "code",
      "execution_count": null,
      "metadata": {
        "colab": {
          "base_uri": "https://localhost:8080/"
        },
        "id": "dITn4GhzUVj5",
        "outputId": "35ddcd50-145a-4bfb-d2b0-b1e851254a78"
      },
      "outputs": [
        {
          "output_type": "stream",
          "name": "stdout",
          "text": [
            "1       Januari\n",
            "2      Februari\n",
            "3         Maret\n",
            "4         April\n",
            "5           Mei\n",
            "6          Juni\n",
            "7          Juli\n",
            "8       Agustus\n",
            "9     September\n",
            "10      Oktober\n",
            "11     November\n",
            "12     Desember\n",
            "dtype: object\n",
            "1       Januari\n",
            "2      Februari\n",
            "3         Maret\n",
            "4         April\n",
            "5           Mei\n",
            "6          Juni\n",
            "7          Juli\n",
            "8       Agustus\n",
            "9     September\n",
            "10      Oktober\n",
            "11     November\n",
            "12     Desember\n",
            "dtype: object\n",
            "Januari Februari Maret April Mei Juni Juli Agustus September Oktober November Desember\n"
          ]
        }
      ],
      "source": [
        "import pandas as pd\n",
        "import numpy as np\n",
        "\n",
        "# Data bulan\n",
        "data = np.array(['Januari', 'Februari', 'Maret', 'April', 'Mei', 'Juni',\n",
        "        'Juli', 'Agustus', 'September', 'Oktober', 'November', 'Desember'])\n",
        "index_bulan = [1,2,3,4,5,6,7,8,9,10,11,12]\n",
        "\n",
        "# Membuat Series dengan data sebagai index\n",
        "series = pd.Series(data, index=index_bulan)\n",
        "# print(\"Seluruh Series:\")\n",
        "# print(series)\n",
        "\n",
        "print(series.iloc[0:13])\n",
        "print(series.loc[1:12])\n",
        "\n",
        "print(series[1], series[2], series[3], series[4], series[5], series[6],\n",
        "      series[7], series[8], series[9], series[10], series[11], series[12])"
      ]
    },
    {
      "cell_type": "markdown",
      "source": [
        "**CONDITIONAL SELECTION AND OPERATION Series**"
      ],
      "metadata": {
        "id": "88jzeR9rbTEX"
      }
    },
    {
      "cell_type": "code",
      "source": [
        "import pandas as pd\n",
        "import numpy as np\n",
        "\n",
        "# Data bulan\n",
        "index_bulan = ['Januari', 'Februari', 'Maret', 'April', 'Mei', 'Juni',\n",
        "        'Juli', 'Agustus', 'September', 'Oktober', 'November', 'Desember']\n",
        "data = np.array([408, 943, 902, 117, 389, 435, 793, 356, 651, 993, 786, 157])\n",
        "# Membuat Series dengan data sebagai index\n",
        "series = pd.Series(data, index=index_bulan)\n",
        "mean_value = series.mean()\n",
        "print(mean_value)\n",
        "print(series[series > series.mean()])\n",
        "series_adjusted = series.where(series <= mean_value, mean_value)\n",
        "print(series_adjusted)\n",
        "series_adjusted_plus = series_adjusted + 5\n",
        "print(series_adjusted_plus)\n",
        "series_adjusted_minus = series_adjusted - 5\n",
        "print(series_adjusted_minus)"
      ],
      "metadata": {
        "colab": {
          "base_uri": "https://localhost:8080/"
        },
        "id": "EtL0azNqbNtH",
        "outputId": "219a6d50-caa8-4759-e97b-0a8fc00196ef"
      },
      "execution_count": null,
      "outputs": [
        {
          "output_type": "stream",
          "name": "stdout",
          "text": [
            "577.5\n",
            "Februari     943\n",
            "Maret        902\n",
            "Juli         793\n",
            "September    651\n",
            "Oktober      993\n",
            "November     786\n",
            "dtype: int64\n",
            "Januari      408.0\n",
            "Februari     577.5\n",
            "Maret        577.5\n",
            "April        117.0\n",
            "Mei          389.0\n",
            "Juni         435.0\n",
            "Juli         577.5\n",
            "Agustus      356.0\n",
            "September    577.5\n",
            "Oktober      577.5\n",
            "November     577.5\n",
            "Desember     157.0\n",
            "dtype: float64\n",
            "Januari      413.0\n",
            "Februari     582.5\n",
            "Maret        582.5\n",
            "April        122.0\n",
            "Mei          394.0\n",
            "Juni         440.0\n",
            "Juli         582.5\n",
            "Agustus      361.0\n",
            "September    582.5\n",
            "Oktober      582.5\n",
            "November     582.5\n",
            "Desember     162.0\n",
            "dtype: float64\n",
            "Januari      403.0\n",
            "Februari     572.5\n",
            "Maret        572.5\n",
            "April        112.0\n",
            "Mei          384.0\n",
            "Juni         430.0\n",
            "Juli         572.5\n",
            "Agustus      351.0\n",
            "September    572.5\n",
            "Oktober      572.5\n",
            "November     572.5\n",
            "Desember     152.0\n",
            "dtype: float64\n"
          ]
        }
      ]
    },
    {
      "cell_type": "markdown",
      "source": [
        "# *PANDAS*"
      ],
      "metadata": {
        "id": "PeWJDxLveb6p"
      }
    },
    {
      "cell_type": "markdown",
      "source": [
        "**Creating, Indexing, Selecting DataFrame**"
      ],
      "metadata": {
        "id": "CkNp1EhSepcb"
      }
    },
    {
      "cell_type": "code",
      "source": [
        "import pandas as pd\n",
        "df = pd.DataFrame(\n",
        "    {\n",
        "        \"Athlete\": [\"Niko\", \"Michael\", \"Peps\", \"Natalie\", \"Aleskey\"],\n",
        "        \"Age\": [23, 19, 27, 25, 24],\n",
        "        \"Country\": [\"United States\", \"Canada\", \"United States\", \"Norway\", \"China\"],\n",
        "        \"Year\": [2008, 2004, 2012, 2008, 2000],\n",
        "        \"Gold Medals\": [8, 6, 4, 1, 2]\n",
        "    }, columns=['Athlete', \"Age\", \"Country\", \"Year\", \"Gold Medals\"],\n",
        "    index = [\"1\", \"2\", \"3\", \"4\", \"5\"]\n",
        ")\n",
        "print(df)\n",
        "print(df.columns)\n",
        "print(df[['Athlete', \"Country\", \"Year\"]])\n",
        "# print(df.loc[:, 'Athlete': \"Year\"])\n",
        "print(df.iloc[0:3,:])"
      ],
      "metadata": {
        "colab": {
          "base_uri": "https://localhost:8080/"
        },
        "id": "zb1myB8mex77",
        "outputId": "d7b87685-3bee-4760-b82c-bab61ec2868a"
      },
      "execution_count": null,
      "outputs": [
        {
          "output_type": "stream",
          "name": "stdout",
          "text": [
            "   Athlete  Age        Country  Year  Gold Medals\n",
            "1     Niko   23  United States  2008            8\n",
            "2  Michael   19         Canada  2004            6\n",
            "3     Peps   27  United States  2012            4\n",
            "4  Natalie   25         Norway  2008            1\n",
            "5  Aleskey   24          China  2000            2\n",
            "Index(['Athlete', 'Age', 'Country', 'Year', 'Gold Medals'], dtype='object')\n",
            "   Athlete        Country  Year\n",
            "1     Niko  United States  2008\n",
            "2  Michael         Canada  2004\n",
            "3     Peps  United States  2012\n",
            "4  Natalie         Norway  2008\n",
            "5  Aleskey          China  2000\n",
            "   Athlete  Age        Country  Year  Gold Medals\n",
            "1     Niko   23  United States  2008            8\n",
            "2  Michael   19         Canada  2004            6\n",
            "3     Peps   27  United States  2012            4\n"
          ]
        }
      ]
    },
    {
      "cell_type": "markdown",
      "source": [
        "**Conditional Selection and Modifying DataFrames**"
      ],
      "metadata": {
        "id": "nIDJLwS6i_Xy"
      }
    },
    {
      "cell_type": "code",
      "source": [
        "import pandas as pd\n",
        "df = pd.DataFrame(\n",
        "    {\n",
        "        \"Athlete\": [\"Niko\", \"Michael\", \"Peps\", \"Natalie\", \"Aleskey\"],\n",
        "        \"Age\": [23, 19, 27, 25, 24],\n",
        "        \"Country\": [\"United States\", \"Canada\", \"United States\", \"Norway\", \"China\"],\n",
        "        \"Year\": [2008, 2004, 2012, 2008, 2000],\n",
        "        \"Gold Medals\": [8, 6, 4, 1, 2]\n",
        "    }, columns=['Athlete', \"Age\", \"Country\", \"Year\", \"Gold Medals\"],\n",
        "    index = [\"1\", \"2\", \"3\", \"4\", \"5\"]\n",
        ")\n",
        "print(df.loc[df[\"Country\"] == \"United States\"])\n",
        "print(df.loc[df[\"Year\"] == 2008])\n",
        "print(df.loc[(df[\"Age\"] == 25) & (df[\"Country\"] == \"Norway\")])\n",
        "indices_to_drop = df.loc[(df[\"Age\"] == 25) & (df[\"Country\"] == \"Norway\")].index\n",
        "print(indices_to_drop)\n",
        "df_drop = df.drop(indices_to_drop)\n",
        "print(df_drop)\n",
        "\n",
        "# Create a Series for Silver Medals\n",
        "silver_medals = pd.Series([0, 0, 2, 1], index=[\"1\", \"2\", \"3\", \"5\"],\n",
        "                          name=\"Silver Medals\")\n",
        "\n",
        "# Add Silver Medals to the original DataFrame\n",
        "df_drop[\"Silver Medals\"] = silver_medals\n",
        "print(\"\\nDataFrame with Silver Medals:\")\n",
        "print(df_drop)"
      ],
      "metadata": {
        "colab": {
          "base_uri": "https://localhost:8080/"
        },
        "id": "N7UEd6Hsja7S",
        "outputId": "87bdbec5-b126-4a1b-901f-36d008797491"
      },
      "execution_count": null,
      "outputs": [
        {
          "output_type": "stream",
          "name": "stdout",
          "text": [
            "  Athlete  Age        Country  Year  Gold Medals\n",
            "1    Niko   23  United States  2008            8\n",
            "3    Peps   27  United States  2012            4\n",
            "   Athlete  Age        Country  Year  Gold Medals\n",
            "1     Niko   23  United States  2008            8\n",
            "4  Natalie   25         Norway  2008            1\n",
            "   Athlete  Age Country  Year  Gold Medals\n",
            "4  Natalie   25  Norway  2008            1\n",
            "Index(['4'], dtype='object')\n",
            "   Athlete  Age        Country  Year  Gold Medals\n",
            "1     Niko   23  United States  2008            8\n",
            "2  Michael   19         Canada  2004            6\n",
            "3     Peps   27  United States  2012            4\n",
            "5  Aleskey   24          China  2000            2\n",
            "\n",
            "DataFrame with Silver Medals:\n",
            "   Athlete  Age        Country  Year  Gold Medals  Silver Medals\n",
            "1     Niko   23  United States  2008            8              0\n",
            "2  Michael   19         Canada  2004            6              0\n",
            "3     Peps   27  United States  2012            4              2\n",
            "5  Aleskey   24          China  2000            2              1\n"
          ]
        }
      ]
    }
  ]
}