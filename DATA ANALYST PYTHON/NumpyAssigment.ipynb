{
  "cells": [
    {
      "cell_type": "markdown",
      "metadata": {
        "id": "Aizk2ELgazy3"
      },
      "source": [
        "## ***NUMPY ASSIGMENT***"
      ]
    },
    {
      "cell_type": "markdown",
      "metadata": {
        "id": "7quotUIGTmSs"
      },
      "source": [
        "**Numpy Array Create & Types**"
      ]
    },
    {
      "cell_type": "code",
      "execution_count": 8,
      "metadata": {
        "colab": {
          "base_uri": "https://localhost:8080/"
        },
        "id": "X0GAKuvyTFsX",
        "outputId": "80939eca-4047-4fde-aa21-4818b70253f7"
      },
      "outputs": [
        {
          "name": "stdout",
          "output_type": "stream",
          "text": [
            "[ 0  1  2  3  4  5  6  7  8  9 10 11 12 13 14 15 16 17 18 19 20]\n",
            "[ 6  7  8  9 10 11 12]\n",
            "[18 19 20]\n",
            "[ 0  2  4  6  8 10 12 14 16 18 20]\n"
          ]
        }
      ],
      "source": [
        "import numpy as np\n",
        "a = np.arange(0,21)\n",
        "print(a)\n",
        "print(a[6:13])\n",
        "print(a[-3:])\n",
        "print(a[::2])"
      ]
    },
    {
      "cell_type": "markdown",
      "metadata": {
        "id": "7XGkaZSnT8sE"
      },
      "source": [
        "**Numpy Dimmension & Shapes**"
      ]
    },
    {
      "cell_type": "code",
      "execution_count": 15,
      "metadata": {
        "colab": {
          "base_uri": "https://localhost:8080/"
        },
        "id": "vNOMIX4uTw4a",
        "outputId": "55e9af1d-8771-4a9c-d90b-f74988956f8f"
      },
      "outputs": [
        {
          "name": "stdout",
          "output_type": "stream",
          "text": [
            "[[[10 11 12]\n",
            "  [13 14 15]\n",
            "  [16 17 18]]\n",
            "\n",
            " [[20 21 22]\n",
            "  [23 24 25]\n",
            "  [26 27 28]]\n",
            "\n",
            " [[30 31 32]\n",
            "  [33 34 35]\n",
            "  [36 37 38]]]\n",
            "3\n",
            "(3, 3, 3)\n",
            "27\n",
            "int64\n"
          ]
        }
      ],
      "source": [
        "import numpy as np\n",
        "J = np.array([\n",
        "    [\n",
        "        [10,11,12],\n",
        "        [13,14,15],\n",
        "        [16,17,18],\n",
        "    ],\n",
        "    [\n",
        "        [20,21,22],\n",
        "        [23,24,25],\n",
        "        [26,27,28],\n",
        "    ],\n",
        "    [\n",
        "        [30,31,32],\n",
        "        [33,34,35],\n",
        "        [36,37,38],\n",
        "    ]\n",
        "])\n",
        "print(J)\n",
        "print(J.ndim)\n",
        "print(J.shape)\n",
        "print(J.size)\n",
        "print(J.dtype)"
      ]
    },
    {
      "cell_type": "markdown",
      "metadata": {
        "id": "kROwDavIVPEG"
      },
      "source": [
        "**NUMPY INDEXING SLICING**"
      ]
    },
    {
      "cell_type": "code",
      "execution_count": 19,
      "metadata": {
        "colab": {
          "base_uri": "https://localhost:8080/"
        },
        "id": "ozJuLnsxVSQL",
        "outputId": "27e1cbfc-9b59-4f9a-b75c-098b8f66a936"
      },
      "outputs": [
        {
          "name": "stdout",
          "output_type": "stream",
          "text": [
            "['Denis' 'Scratch' '8'] ['Frank' 'Python' '18'] ['Roger' 'Unity' '15']\n",
            "['Denis' 'Frank' 'Roger']\n",
            "['Scratch' 'Python' 'Unity']\n",
            "['8' '18' '15']\n",
            "[['Denis' 'Roblox' '8']\n",
            " ['Frank' 'Python' '18']\n",
            " ['Roger' 'Unity' '15']]\n"
          ]
        }
      ],
      "source": [
        "import numpy as np\n",
        "A = np.array([\n",
        "    [\"Denis\",\"Scratch\",8],\n",
        "    [\"Frank\",\"Python\",18],\n",
        "    [\"Roger\",\"Unity\",15]\n",
        "])\n",
        "print(A[0], A[1], A[2])\n",
        "print(A[:,0])\n",
        "print(A[:,1])\n",
        "print(A[:,2])\n",
        "A[0, 1] = \"Roblox\"\n",
        "print(A)"
      ]
    },
    {
      "cell_type": "markdown",
      "metadata": {
        "id": "wK_RIMXQXLqU"
      },
      "source": [
        "**Numpy Operations**"
      ]
    },
    {
      "cell_type": "code",
      "execution_count": 35,
      "metadata": {
        "colab": {
          "base_uri": "https://localhost:8080/"
        },
        "id": "BjAB26prXRBS",
        "outputId": "3ca08822-e25b-4a7d-bd0f-f64d335584d5"
      },
      "outputs": [
        {
          "name": "stdout",
          "output_type": "stream",
          "text": [
            "16735\n",
            "3347.0\n",
            "[9598 6308 8476 5858 3230]\n",
            "[[1 'Januari' 5000]\n",
            " [2 'Februari' 5000]\n",
            " [3 'Maret' 5000]\n",
            " [4 'April' 5000]\n",
            " [5 'Mei' 5000]]\n"
          ]
        }
      ],
      "source": [
        "import numpy as np\n",
        "\n",
        "N = np.array([\n",
        "    [1, \"Januari\", 4799],\n",
        "    [2, \"Februari\", 3154],\n",
        "    [3, \"Maret\", 4238],\n",
        "    [4, \"April\", 2929],\n",
        "    [5, \"Mei\", 1615]\n",
        "], dtype=object)  # dtype=object is used to handle mixed types\n",
        "\n",
        "print(N[:, 2].sum(axis=0))\n",
        "print(N[:, 2].mean(axis=0))\n",
        "print(N[:, 2]*2)\n",
        "N[:,2] = 5000\n",
        "print(N)"
      ]
    },
    {
      "cell_type": "markdown",
      "metadata": {
        "id": "9L_3ffYWZpDF"
      },
      "source": [
        "**Numpy Operation & Bool**"
      ]
    },
    {
      "cell_type": "code",
      "execution_count": 42,
      "metadata": {
        "colab": {
          "base_uri": "https://localhost:8080/"
        },
        "id": "jbKVuD44Zuic",
        "outputId": "1c89cb4a-0d4b-40bc-c6ae-6fd895218b28"
      },
      "outputs": [
        {
          "name": "stdout",
          "output_type": "stream",
          "text": [
            "[[119 535 390 583]\n",
            " [504 912 360 513]\n",
            " [839 780 877 186]\n",
            " [839 774 166 290]]\n",
            "[535 583 504 912 513 839 780 877 839 774]\n",
            "[535 390 504 360 513 290]\n"
          ]
        }
      ],
      "source": [
        "# make it randint 100 - 1000\n",
        "A = np.random.randint(100, 1000, size=(4,4))\n",
        "\n",
        "print(A)\n",
        "print(A[A>500])\n",
        "B = (A>200)\n",
        "C = (A<550)\n",
        "D = (B & C)\n",
        "print(A[D])"
      ]
    },
    {
      "cell_type": "markdown",
      "metadata": {
        "id": "fcXkp7wedEXb"
      },
      "source": [
        "**MINI PROJECT NUMPY CALCULATOR**"
      ]
    },
    {
      "cell_type": "code",
      "execution_count": 47,
      "metadata": {
        "colab": {
          "base_uri": "https://localhost:8080/"
        },
        "id": "cHtLk6b9bBg3",
        "outputId": "b2832ab3-f676-4b73-ac94-1af173f7d15c"
      },
      "outputs": [
        {
          "name": "stdout",
          "output_type": "stream",
          "text": [
            "Masukan Elements Pertama 1D array dipisahkan spasi: 1 2 3\n",
            "Masukan Elements Pertama 1D array dipisahkan spasi: 9 8 7\n",
            "[1 2 3]\n",
            "[9 8 7]\n",
            "[10 10 10]\n",
            "(6, 0.816496580927726, 0.6666666666666666)\n",
            "(24, 0.816496580927726, 0.6666666666666666)\n"
          ]
        }
      ],
      "source": [
        "import numpy as np\n",
        "\n",
        "def input_array(prompt):\n",
        "    user_input = input(prompt)\n",
        "    return np.array([int(x) for x in user_input.split()])\n",
        "\n",
        "def calculate_stats(array):\n",
        "    return array.sum(), array.std(), array.var()\n",
        "\n",
        "def add_arrays(array1, array2):\n",
        "    return array1 + array2\n",
        "\n",
        "def multiply_arrays(array1, array2):\n",
        "    return array1 * array2\n",
        "\n",
        "array1 = input_array(\"Masukan Elements Pertama 1D array dipisahkan spasi: \")\n",
        "array2 = input_array(\"Masukan Elements Pertama 1D array dipisahkan spasi: \")\n",
        "\n",
        "print(array1)\n",
        "print(array2)\n",
        "print(add_arrays(array1, array2))\n",
        "print(multiply_arrays(array1, array2))\n",
        "print(calculate_stats(array1))\n",
        "print(calculate_stats(array2))"
      ]
    },
    {
      "cell_type": "code",
      "execution_count": null,
      "metadata": {},
      "outputs": [],
      "source": [
        "import numpy as np\n",
        "\n",
        "# Mendefinisikan fungsi untuk mengambil input dua array\n",
        "def input_array():\n",
        "    n = int(input(\"Masukkan jumlah elemen untuk kedua array: \"))\n",
        "    \n",
        "    # Input untuk array pertama\n",
        "    array1 = []\n",
        "    print(f\"Masukkan {n} elemen untuk array pertama:\")\n",
        "    for i in range(n):\n",
        "        elemen = int(input(f\"Elemen {i+1}: \"))\n",
        "        array1.append(elemen)\n",
        "    np_1 = np.array(array1)\n",
        "    \n",
        "    # Input untuk array kedua\n",
        "    array2 = []\n",
        "    print(f\"Masukkan {n} elemen untuk array kedua:\")\n",
        "    for i in range(n):\n",
        "        elemen = int(input(f\"Elemen {i+1}: \"))\n",
        "        array2.append(elemen)\n",
        "    np_2 = np.array(array2)\n",
        "    return np_1, np_2\n",
        "\n",
        "# Memanggil fungsi dan mencetak hasil\n",
        "np_1, np_2 = input_array()\n",
        "print(\"Array pertama:\", np_1)\n",
        "print(\"Array kedua:\", np_2)\n"
      ]
    }
  ],
  "metadata": {
    "colab": {
      "provenance": []
    },
    "kernelspec": {
      "display_name": "Python 3",
      "name": "python3"
    },
    "language_info": {
      "name": "python"
    }
  },
  "nbformat": 4,
  "nbformat_minor": 0
}
