{
  "nbformat": 4,
  "nbformat_minor": 0,
  "metadata": {
    "colab": {
      "provenance": []
    },
    "kernelspec": {
      "name": "python3",
      "display_name": "Python 3"
    },
    "language_info": {
      "name": "python"
    }
  },
  "cells": [
    {
      "cell_type": "markdown",
      "source": [
        "**NUMPY INTRODUCTION**\n",
        "\n",
        "\n",
        "NUMPY MENYIMPAN 1 jenis type data\n",
        "tidak seperti var python yang sebagai objek"
      ],
      "metadata": {
        "id": "mZB_9AAJdNWY"
      }
    },
    {
      "cell_type": "code",
      "source": [
        "import numpy as np\n",
        "\n",
        "# Membuat array dengan campuran int dan string\n",
        "arr = np.array([1, 12, 3.14])\n",
        "\n",
        "# Menampilkan array dan tipe datanya\n",
        "print(arr)\n",
        "print(arr.dtype)\n"
      ],
      "metadata": {
        "colab": {
          "base_uri": "https://localhost:8080/"
        },
        "id": "U61EbEsYc3AG",
        "outputId": "1af1c3e7-e515-4908-c96c-ab728d662a36"
      },
      "execution_count": 31,
      "outputs": [
        {
          "output_type": "stream",
          "name": "stdout",
          "text": [
            "[ 1.   12.    3.14]\n",
            "float64\n"
          ]
        }
      ]
    },
    {
      "cell_type": "code",
      "source": [
        "import numpy as np\n",
        "\n",
        "# Membuat array dari string\n",
        "arr = np.array([\"apple\", \"banana\", \"cherry\"])\n",
        "\n",
        "# Menampilkan array dan tipe datanya\n",
        "print(arr)\n",
        "print(arr.dtype)\n"
      ],
      "metadata": {
        "colab": {
          "base_uri": "https://localhost:8080/"
        },
        "id": "lIXsOwfdco_m",
        "outputId": "f1db7871-80e1-479c-84bc-c95a67f95bbe"
      },
      "execution_count": 32,
      "outputs": [
        {
          "output_type": "stream",
          "name": "stdout",
          "text": [
            "['apple' 'banana' 'cherry']\n",
            "<U6\n"
          ]
        }
      ]
    },
    {
      "cell_type": "code",
      "execution_count": 33,
      "metadata": {
        "colab": {
          "base_uri": "https://localhost:8080/"
        },
        "id": "hmRxyDYxca8N",
        "outputId": "2056f806-cb67-4a4f-d30e-c6aa231db2c7"
      },
      "outputs": [
        {
          "output_type": "stream",
          "name": "stdout",
          "text": [
            "['1' 'banana' '3.14']\n",
            "<U32\n",
            "1\n",
            "banana\n",
            "3.14\n"
          ]
        }
      ],
      "source": [
        "import numpy as np\n",
        "\n",
        "# Membuat array dengan campuran int dan string\n",
        "arr = np.array([1, \"banana\", 3.14])\n",
        "\n",
        "# Menampilkan array dan tipe datanya\n",
        "print(arr)\n",
        "print(arr.dtype)\n",
        "\n",
        "for member in arr:\n",
        "  print(member)"
      ]
    },
    {
      "cell_type": "markdown",
      "source": [
        "**NP ARRAGE DAN SLICING**\n"
      ],
      "metadata": {
        "id": "DOck_8i5ewz9"
      }
    },
    {
      "cell_type": "markdown",
      "source": [],
      "metadata": {
        "id": "--1nXln4eyhn"
      }
    },
    {
      "cell_type": "code",
      "source": [
        "import numpy as np\n",
        "\n",
        "# Membuat array\n",
        "arr = np.array([10, 20, 30, 40, 50, 60, 70, 80, 90, 100])\n",
        "\n",
        "# Mengambil elemen dari indeks 2 hingga 5\n",
        "slice1 = arr[2:6]\n",
        "print(slice1)  # Output: [30 40 50 60]\n",
        "\n",
        "# Mengambil elemen dari indeks 1 hingga 8 dengan langkah 2\n",
        "slice2 = arr[1:8:2]\n",
        "print(slice2)  # Output: [20 40 60 80]\n",
        "\n",
        "# Mengambil elemen dari awal hingga indeks 4\n",
        "slice3 = arr[:5]\n",
        "print(slice3)  # Output: [10 20 30 40 50]\n",
        "\n",
        "# Mengambil elemen dari indeks 5 hingga akhir\n",
        "slice4 = arr[5:]\n",
        "print(slice4)  # Output: [60 70 80 90 100]\n",
        "\n",
        "# Membalik array dengan slicing\n",
        "slice5 = arr[::-1]\n",
        "print(slice5)  # Output: [100  90  80  70  60  50  40  30  20  10]\n"
      ],
      "metadata": {
        "colab": {
          "base_uri": "https://localhost:8080/"
        },
        "id": "XcXSdrHpet5P",
        "outputId": "356f88a5-956a-41a2-ac0d-7bd8e7b1b8be"
      },
      "execution_count": 34,
      "outputs": [
        {
          "output_type": "stream",
          "name": "stdout",
          "text": [
            "[30 40 50 60]\n",
            "[20 40 60 80]\n",
            "[10 20 30 40 50]\n",
            "[ 60  70  80  90 100]\n",
            "[100  90  80  70  60  50  40  30  20  10]\n"
          ]
        }
      ]
    },
    {
      "cell_type": "markdown",
      "source": [
        "**NP DIMENSION DAN SHAPES**"
      ],
      "metadata": {
        "id": "aBvUek8ogcwn"
      }
    },
    {
      "cell_type": "code",
      "source": [
        "import numpy as np\n",
        "\n",
        "arr1 = np.array([1, 2, 3])             # 1D array\n",
        "arr2 = np.array([[1, 2, 3], [4, 5, 6]])    # 2D array\n",
        "arr3 = np.array([[[1], [2]], [[3], [4]]])  # 3D array\n",
        "\n",
        "print(arr1.shape)  # Output: (3,)\n",
        "print(arr2.shape)  # Output: (2, 3)\n",
        "print(arr3.shape)  # Output: (2, 2, 1)\n"
      ],
      "metadata": {
        "colab": {
          "base_uri": "https://localhost:8080/"
        },
        "id": "SwtMFYrNgtKM",
        "outputId": "8b9f8404-6676-4b1e-b9c1-52e07a74189a"
      },
      "execution_count": 35,
      "outputs": [
        {
          "output_type": "stream",
          "name": "stdout",
          "text": [
            "(3,)\n",
            "(2, 3)\n",
            "(2, 2, 1)\n"
          ]
        }
      ]
    },
    {
      "cell_type": "code",
      "source": [
        "import numpy as np\n",
        "\n",
        "# Membuat array 3D\n",
        "data = np.random.randint(1, 10, size=(3, 2, 4))  # 3 lapisan, 2 baris, 4 kolom\n",
        "\n",
        "print(f\"Array: \\n{data}\")\n",
        "print(f\"Size: {data.size}\")  # Output: 24 (3*2*4)\n",
        "print(f\"Number of Dimensions (ndim): {data.ndim}\")  # Output: 3\n",
        "print(f\"Shape: {data.shape}\")  # Output: (3, 2, 4)\n"
      ],
      "metadata": {
        "colab": {
          "base_uri": "https://localhost:8080/"
        },
        "id": "sbFVzbCEg1wS",
        "outputId": "680916a8-7534-4323-9c2b-f59e8ba6d361"
      },
      "execution_count": 36,
      "outputs": [
        {
          "output_type": "stream",
          "name": "stdout",
          "text": [
            "Array: \n",
            "[[[2 1 7 5]\n",
            "  [8 2 6 1]]\n",
            "\n",
            " [[3 9 2 4]\n",
            "  [7 4 4 2]]\n",
            "\n",
            " [[7 5 5 8]\n",
            "  [9 2 6 3]]]\n",
            "Size: 24\n",
            "Number of Dimensions (ndim): 3\n",
            "Shape: (3, 2, 4)\n"
          ]
        }
      ]
    },
    {
      "cell_type": "markdown",
      "source": [
        "**NUMPY SLICING ARRAYS AND ASSIGNING**"
      ],
      "metadata": {
        "id": "kwnR0-DOiveQ"
      }
    },
    {
      "cell_type": "code",
      "source": [
        "import numpy as np\n",
        "\n",
        "# Membuat array 3x3\n",
        "arr = np.array([[1, 2, 3],\n",
        "                [4, 5, 6],\n",
        "                [7, 8, 9]])\n",
        "\n",
        "print(\"Array 3x3:\")\n",
        "print(arr)\n",
        "cols_0_2 = arr[:, [0, 2]]\n",
        "print(\"\\nKolom Pertama dan Ketiga:\")\n",
        "print(cols_0_2)\n",
        "col_1_take = np.take(arr, indices=1, axis=1)\n",
        "print(\"\\nKolom Kedua dengan np.take():\")\n",
        "print(col_1_take)\n",
        "print(\"\\nGanti Baris indeks ke 2:\")\n",
        "arr[2] = 10\n",
        "print(arr)\n",
        "print(\"\\nGanti Baris indeks ke 1:\")\n",
        "arr[1] = [-1,-2,-3]\n",
        "print(arr)"
      ],
      "metadata": {
        "colab": {
          "base_uri": "https://localhost:8080/"
        },
        "id": "tmTIC7RBi4Qf",
        "outputId": "e421ad30-ffe7-4dd8-f473-bfac067bf518"
      },
      "execution_count": 37,
      "outputs": [
        {
          "output_type": "stream",
          "name": "stdout",
          "text": [
            "Array 3x3:\n",
            "[[1 2 3]\n",
            " [4 5 6]\n",
            " [7 8 9]]\n",
            "\n",
            "Kolom Pertama dan Ketiga:\n",
            "[[1 3]\n",
            " [4 6]\n",
            " [7 9]]\n",
            "\n",
            "Kolom Kedua dengan np.take():\n",
            "[2 5 8]\n",
            "\n",
            "Ganti Baris indeks ke 2:\n",
            "[[ 1  2  3]\n",
            " [ 4  5  6]\n",
            " [10 10 10]]\n",
            "\n",
            "Ganti Baris indeks ke 1:\n",
            "[[ 1  2  3]\n",
            " [-1 -2 -3]\n",
            " [10 10 10]]\n"
          ]
        }
      ]
    },
    {
      "cell_type": "markdown",
      "source": [
        "**NP Statistics**"
      ],
      "metadata": {
        "id": "tA_10_oElJSh"
      }
    },
    {
      "cell_type": "code",
      "source": [
        "import numpy as np\n",
        "\n",
        "# Membuat array 2D\n",
        "arr_2d = np.array([[1, 2, 3],\n",
        "                   [4, 5, 6],\n",
        "                   [7, 8, 9]])\n",
        "\n",
        "print(\"Array 2D:\")\n",
        "print(arr_2d)\n",
        "mean_all = np.mean(arr_2d)\n",
        "print(\"\\nRata-rata Seluruh Array:\", mean_all)\n",
        "mean_per_row = np.mean(arr_2d, axis=1)\n",
        "print(\"Rata-rata per Baris:\", mean_per_row)\n",
        "mean_per_col = np.mean(arr_2d, axis=0)\n",
        "print(\"Rata-rata per Kolom:\", mean_per_col)\n",
        "median_all = np.median(arr_2d)\n",
        "print(\"\\nMedian Seluruh Array:\", median_all)\n",
        "std_dev_all = np.std(arr_2d)\n",
        "print(\"\\nStandar Deviasi Seluruh Array:\", std_dev_all)\n",
        "variance_all = np.var(arr_2d)\n",
        "print(\"\\nVariansi Seluruh Array:\", variance_all)\n",
        "min_all = np.min(arr_2d)\n",
        "print(\"\\nNilai Minimum Seluruh Array:\", min_all)\n",
        "max_all = np.max(arr_2d)\n",
        "print(\"Nilai Maksimum Seluruh Array:\", max_all)\n",
        "sum_all = np.sum(arr_2d)\n",
        "print(\"\\nPenjumlahan Seluruh Array:\", sum_all)\n"
      ],
      "metadata": {
        "colab": {
          "base_uri": "https://localhost:8080/"
        },
        "id": "rWsUUNGklOJb",
        "outputId": "ab35ce5c-3555-440b-a329-f78e634a731f"
      },
      "execution_count": 38,
      "outputs": [
        {
          "output_type": "stream",
          "name": "stdout",
          "text": [
            "Array 2D:\n",
            "[[1 2 3]\n",
            " [4 5 6]\n",
            " [7 8 9]]\n",
            "\n",
            "Rata-rata Seluruh Array: 5.0\n",
            "Rata-rata per Baris: [2. 5. 8.]\n",
            "Rata-rata per Kolom: [4. 5. 6.]\n",
            "\n",
            "Median Seluruh Array: 5.0\n",
            "\n",
            "Standar Deviasi Seluruh Array: 2.581988897471611\n",
            "\n",
            "Variansi Seluruh Array: 6.666666666666667\n",
            "\n",
            "Nilai Minimum Seluruh Array: 1\n",
            "Nilai Maksimum Seluruh Array: 9\n",
            "\n",
            "Penjumlahan Seluruh Array: 45\n"
          ]
        }
      ]
    },
    {
      "cell_type": "markdown",
      "source": [
        "**NP LINEAR ALGEBRA**"
      ],
      "metadata": {
        "id": "-Lc1UoRPl7uJ"
      }
    },
    {
      "cell_type": "code",
      "source": [
        "matrix = np.array([[1, 2], [3, 4]])\n",
        "transpose_matrix = np.transpose(matrix)\n",
        "print(\"Transpose Matriks:\")\n",
        "print(transpose_matrix)\n",
        "det_matrix = np.linalg.det(matrix)\n",
        "print(\"Determinant Matriks:\", det_matrix)\n",
        "inverse_matrix = np.linalg.inv(matrix)\n",
        "print(\"Inverse Matriks:\")\n",
        "print(inverse_matrix)\n",
        "\n"
      ],
      "metadata": {
        "colab": {
          "base_uri": "https://localhost:8080/"
        },
        "id": "FW8MiWCQl6NC",
        "outputId": "4ea113ee-fd7f-45a2-8b4b-539592b3324c"
      },
      "execution_count": 39,
      "outputs": [
        {
          "output_type": "stream",
          "name": "stdout",
          "text": [
            "Transpose Matriks:\n",
            "[[1 3]\n",
            " [2 4]]\n",
            "Determinant Matriks: -2.0000000000000004\n",
            "Inverse Matriks:\n",
            "[[-2.   1. ]\n",
            " [ 1.5 -0.5]]\n"
          ]
        }
      ]
    },
    {
      "cell_type": "markdown",
      "source": [
        "**NP OPERASI MATRIKS**"
      ],
      "metadata": {
        "id": "FiyK2R5Bmaf-"
      }
    },
    {
      "cell_type": "code",
      "source": [
        "arr = np.array([1, 2, 3, 4, 5])\n",
        "arr2 = np.array([10, 20, 30, 40, 50])\n",
        "\n",
        "sum_arr = arr + arr2\n",
        "diff_arr = arr2 - arr\n",
        "print(\"Penjumlahan Array:\", sum_arr)\n",
        "print(\"Pengurangan Array:\", diff_arr)\n",
        "product_arr = arr * arr2\n",
        "quotient_arr = arr2 / arr\n",
        "print(\"Perkalian Array:\", product_arr)\n",
        "print(\"Pembagian Array:\", quotient_arr)\n",
        "exp_arr = np.exp(arr)\n",
        "log_arr = np.log(arr)\n",
        "print(\"Eksponensial Array:\", exp_arr)\n",
        "print(\"Logaritma Array:\", log_arr)\n"
      ],
      "metadata": {
        "colab": {
          "base_uri": "https://localhost:8080/"
        },
        "id": "e2E1deVqmCS8",
        "outputId": "a79b3c76-18c6-4d2c-8e0b-59cd367e41f0"
      },
      "execution_count": 40,
      "outputs": [
        {
          "output_type": "stream",
          "name": "stdout",
          "text": [
            "Penjumlahan Array: [11 22 33 44 55]\n",
            "Pengurangan Array: [ 9 18 27 36 45]\n",
            "Perkalian Array: [ 10  40  90 160 250]\n",
            "Pembagian Array: [10. 10. 10. 10. 10.]\n",
            "Eksponensial Array: [  2.71828183   7.3890561   20.08553692  54.59815003 148.4131591 ]\n",
            "Logaritma Array: [0.         0.69314718 1.09861229 1.38629436 1.60943791]\n"
          ]
        }
      ]
    },
    {
      "cell_type": "markdown",
      "source": [
        "**NP BROADCASTING**"
      ],
      "metadata": {
        "id": "J4lYG4kjnI2P"
      }
    },
    {
      "cell_type": "code",
      "source": [
        "import numpy as np\n",
        "\n",
        "# Membuat array NumPy 3x3\n",
        "arr_3x3 = np.array([[1, 2, 3],\n",
        "                    [4, 5, 6],\n",
        "                    [7, 8, 9]])\n",
        "\n",
        "print(\"Array Asli:\")\n",
        "print(arr_3x3)\n",
        "\n",
        "# Menambahkan 2 ke kolom ketiga (indeks 2)\n",
        "arr_3x3[:, 2] = arr_3x3[:, 2] + 2\n",
        "\n",
        "print(\"\\nArray Setelah Kolom Ketiga Ditambahkan 2:\")\n",
        "print(arr_3x3)\n",
        "\n",
        "# Mengkurangkan 2\n",
        "arr_3x3 = arr_3x3 - 2\n",
        "print(\"\\nArray Setelah Dikurangkan 2:\")\n",
        "print(arr_3x3)"
      ],
      "metadata": {
        "colab": {
          "base_uri": "https://localhost:8080/"
        },
        "id": "e6RpkqEVnMsl",
        "outputId": "6e6617e7-a64b-4f7e-b31e-acbf85235387"
      },
      "execution_count": 41,
      "outputs": [
        {
          "output_type": "stream",
          "name": "stdout",
          "text": [
            "Array Asli:\n",
            "[[1 2 3]\n",
            " [4 5 6]\n",
            " [7 8 9]]\n",
            "\n",
            "Array Setelah Kolom Ketiga Ditambahkan 2:\n",
            "[[ 1  2  5]\n",
            " [ 4  5  8]\n",
            " [ 7  8 11]]\n",
            "\n",
            "Array Setelah Dikurangkan 2:\n",
            "[[-1  0  3]\n",
            " [ 2  3  6]\n",
            " [ 5  6  9]]\n"
          ]
        }
      ]
    },
    {
      "cell_type": "markdown",
      "source": [
        "**NP BOOLEAN**"
      ],
      "metadata": {
        "id": "PVcZeI_9oS8a"
      }
    },
    {
      "cell_type": "code",
      "source": [
        "import numpy as np\n",
        "\n",
        "# Membuat array NumPy\n",
        "arr = np.array([1, 2, 3, 4, 5, 6])\n",
        "\n",
        "# Kondisi: elemen lebih besar dari 2\n",
        "condition1 = arr > 2\n",
        "\n",
        "# Kondisi: elemen kurang dari 5\n",
        "condition2 = arr < 5\n",
        "\n",
        "# Menggunakan negasi (not), and, dan or\n",
        "# Negasi: Membalikkan kondisi (elemen <= 2 atau elemen >= 5)\n",
        "negated_condition = ~(condition1 & condition2)\n",
        "\n",
        "# And: Elemen yang lebih besar dari 2 DAN kurang dari 5\n",
        "and_condition = condition1 & condition2\n",
        "\n",
        "# Or: Elemen yang lebih besar dari 2 ATAU kurang dari 5\n",
        "or_condition = condition1 | condition2\n",
        "\n",
        "# Hasil seleksi dengan kondisi negasi, and, dan or\n",
        "negated_result = arr[negated_condition]\n",
        "and_result = arr[and_condition]\n",
        "or_result = arr[or_condition]\n",
        "\n",
        "# Menampilkan hasil\n",
        "print(\"Array Asli:\")\n",
        "print(arr)\n",
        "\n",
        "print(\"\\nNegasi (Not): Elemen <= 2 atau >= 5:\")\n",
        "print(negated_result)\n",
        "\n",
        "print(\"\\nAnd: Elemen > 2 dan < 5:\")\n",
        "print(and_result)\n",
        "\n",
        "print(\"\\nOr: Elemen > 2 atau < 5:\")\n",
        "print(or_result)\n"
      ],
      "metadata": {
        "colab": {
          "base_uri": "https://localhost:8080/"
        },
        "id": "bvn6iGNeoVk_",
        "outputId": "b645f962-6a68-4b8c-8b3d-484a8b5334b4"
      },
      "execution_count": 42,
      "outputs": [
        {
          "output_type": "stream",
          "name": "stdout",
          "text": [
            "Array Asli:\n",
            "[1 2 3 4 5 6]\n",
            "\n",
            "Negasi (Not): Elemen <= 2 atau >= 5:\n",
            "[1 2 5 6]\n",
            "\n",
            "And: Elemen > 2 dan < 5:\n",
            "[3 4]\n",
            "\n",
            "Or: Elemen > 2 atau < 5:\n",
            "[1 2 3 4 5 6]\n"
          ]
        }
      ]
    }
  ]
}