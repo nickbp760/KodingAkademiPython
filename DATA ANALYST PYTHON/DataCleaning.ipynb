{
  "nbformat": 4,
  "nbformat_minor": 0,
  "metadata": {
    "colab": {
      "provenance": [],
      "collapsed_sections": [
        "T9QhDTXY7mBb",
        "nlz1r1h69W-s"
      ]
    },
    "kernelspec": {
      "name": "python3",
      "display_name": "Python 3"
    },
    "language_info": {
      "name": "python"
    }
  },
  "cells": [
    {
      "cell_type": "markdown",
      "source": [
        "## ***DATA CLEANING***"
      ],
      "metadata": {
        "id": "bzJ1q_68328o"
      }
    },
    {
      "cell_type": "markdown",
      "source": [
        "# **Data Cleaning DataFrames REPLACE DROP NA**"
      ],
      "metadata": {
        "id": "T9QhDTXY7mBb"
      }
    },
    {
      "cell_type": "code",
      "execution_count": 19,
      "metadata": {
        "colab": {
          "base_uri": "https://localhost:8080/"
        },
        "id": "x8LbMXoo3yFK",
        "outputId": "8a755fcc-1123-4264-cf2f-4adcfdaaa041"
      },
      "outputs": [
        {
          "output_type": "stream",
          "name": "stdout",
          "text": [
            "      id  umur  tekanandarah  gravitas  albumin  sugar seldarahmerah  \\\n",
            "0      0  48.0          80.0     1.020      1.0    0.0           NaN   \n",
            "1      1   7.0          50.0     1.020      4.0    0.0           NaN   \n",
            "2      2  62.0          80.0     1.010      2.0    3.0  Tidak Normal   \n",
            "3      3  48.0          70.0     1.005      4.0    0.0  Tidak Normal   \n",
            "4      4  51.0          80.0     1.010      2.0    0.0  Tidak Normal   \n",
            "..   ...   ...           ...       ...      ...    ...           ...   \n",
            "395  395  55.0          80.0     1.020      0.0    0.0  Tidak Normal   \n",
            "396  396  42.0          70.0     1.025      0.0    0.0  Tidak Normal   \n",
            "397  397  12.0          80.0     1.020      0.0    0.0  Tidak Normal   \n",
            "398  398  17.0          60.0     1.025      0.0    0.0  Tidak Normal   \n",
            "399  399  58.0          80.0     1.025      0.0    0.0  Tidak Normal   \n",
            "\n",
            "           pussel    gds  ureum  ...  MCV  seldarahputih  seldarahmerah.1  \\\n",
            "0    Tidak Normal  121.0   36.0  ...   44           7800              5.2   \n",
            "1    Tidak Normal    NaN   18.0  ...   38           6000              NaN   \n",
            "2    Tidak Normal  423.0   53.0  ...   31           7500              NaN   \n",
            "3          Normal  117.0   56.0  ...   32           6700              3.9   \n",
            "4    Tidak Normal  106.0   26.0  ...   35           7300              4.6   \n",
            "..            ...    ...    ...  ...  ...            ...              ...   \n",
            "395  Tidak Normal  140.0   49.0  ...   47           6700              4.9   \n",
            "396  Tidak Normal   75.0   31.0  ...   54           7800              6.2   \n",
            "397  Tidak Normal  100.0   26.0  ...   49           6600              5.4   \n",
            "398  Tidak Normal  114.0   50.0  ...   51           7200              5.9   \n",
            "399  Tidak Normal  131.0   18.0  ...   53           6800              6.1   \n",
            "\n",
            "     hipertensi diabetes    cad nafsumakan  edema anemia klasifikasi  \n",
            "0           yes      yes  Tidak       baik  Tidak  Tidak         ckd  \n",
            "1         Tidak    Tidak  Tidak       baik  Tidak  Tidak         ckd  \n",
            "2         Tidak      yes  Tidak      buruk  Tidak    yes         ckd  \n",
            "3           yes    Tidak  Tidak      buruk    yes    yes         ckd  \n",
            "4         Tidak    Tidak  Tidak       baik  Tidak  Tidak         ckd  \n",
            "..          ...      ...    ...        ...    ...    ...         ...  \n",
            "395       Tidak    Tidak  Tidak       baik  Tidak  Tidak   Tidaktckd  \n",
            "396       Tidak    Tidak  Tidak       baik  Tidak  Tidak   Tidaktckd  \n",
            "397       Tidak    Tidak  Tidak       baik  Tidak  Tidak   Tidaktckd  \n",
            "398       Tidak    Tidak  Tidak       baik  Tidak  Tidak   Tidaktckd  \n",
            "399       Tidak    Tidak  Tidak       baik  Tidak  Tidak   Tidaktckd  \n",
            "\n",
            "[400 rows x 24 columns]\n",
            "400\n",
            "------------------------------------------------------------------------\n",
            "      id  umur  tekanandarah  gravitas  albumin  sugar seldarahmerah  \\\n",
            "3      3  48.0          70.0     1.005      4.0    0.0  Tidak Normal   \n",
            "9      9  53.0          90.0     1.020      2.0    0.0        Normal   \n",
            "11    11  63.0          70.0     1.010      3.0    0.0        Normal   \n",
            "14    14  68.0          80.0     1.010      3.0    2.0  Tidak Normal   \n",
            "20    20  61.0          80.0     1.015      2.0    0.0        Normal   \n",
            "..   ...   ...           ...       ...      ...    ...           ...   \n",
            "395  395  55.0          80.0     1.020      0.0    0.0  Tidak Normal   \n",
            "396  396  42.0          70.0     1.025      0.0    0.0  Tidak Normal   \n",
            "397  397  12.0          80.0     1.020      0.0    0.0  Tidak Normal   \n",
            "398  398  17.0          60.0     1.025      0.0    0.0  Tidak Normal   \n",
            "399  399  58.0          80.0     1.025      0.0    0.0  Tidak Normal   \n",
            "\n",
            "           pussel    gds  ureum  ...  MCV  seldarahputih  seldarahmerah.1  \\\n",
            "3          Normal  117.0   56.0  ...   32           6700              3.9   \n",
            "9          Normal   70.0  107.0  ...   29          12100              3.7   \n",
            "11         Normal  380.0   60.0  ...   32           4500              3.8   \n",
            "14         Normal  157.0   90.0  ...   16          11000              2.6   \n",
            "20         Normal  173.0  148.0  ...   24           9200              3.2   \n",
            "..            ...    ...    ...  ...  ...            ...              ...   \n",
            "395  Tidak Normal  140.0   49.0  ...   47           6700              4.9   \n",
            "396  Tidak Normal   75.0   31.0  ...   54           7800              6.2   \n",
            "397  Tidak Normal  100.0   26.0  ...   49           6600              5.4   \n",
            "398  Tidak Normal  114.0   50.0  ...   51           7200              5.9   \n",
            "399  Tidak Normal  131.0   18.0  ...   53           6800              6.1   \n",
            "\n",
            "     hipertensi diabetes    cad nafsumakan  edema anemia klasifikasi  \n",
            "3           yes    Tidak  Tidak      buruk    yes    yes         ckd  \n",
            "9           yes      yes  Tidak      buruk  Tidak    yes         ckd  \n",
            "11          yes      yes  Tidak      buruk    yes  Tidak         ckd  \n",
            "14          yes      yes    yes      buruk    yes  Tidak         ckd  \n",
            "20          yes      yes    yes      buruk    yes    yes         ckd  \n",
            "..          ...      ...    ...        ...    ...    ...         ...  \n",
            "395       Tidak    Tidak  Tidak       baik  Tidak  Tidak   Tidaktckd  \n",
            "396       Tidak    Tidak  Tidak       baik  Tidak  Tidak   Tidaktckd  \n",
            "397       Tidak    Tidak  Tidak       baik  Tidak  Tidak   Tidaktckd  \n",
            "398       Tidak    Tidak  Tidak       baik  Tidak  Tidak   Tidaktckd  \n",
            "399       Tidak    Tidak  Tidak       baik  Tidak  Tidak   Tidaktckd  \n",
            "\n",
            "[159 rows x 24 columns]\n",
            "      id  umur  tekanandarah  gravitas  albumin  sugar seldarahmerah  \\\n",
            "3      3  48.0          70.0     1.005      4.0    0.0  Tidak Normal   \n",
            "9      9  53.0          90.0     1.020      2.0    0.0        Normal   \n",
            "11    11  63.0          70.0     1.010      3.0    0.0        Normal   \n",
            "14    14  68.0          80.0     1.010      3.0    2.0  Tidak Normal   \n",
            "20    20  61.0          80.0     1.015      2.0    0.0        Normal   \n",
            "..   ...   ...           ...       ...      ...    ...           ...   \n",
            "395  395  55.0          80.0     1.020      0.0    0.0  Tidak Normal   \n",
            "396  396  42.0          70.0     1.025      0.0    0.0  Tidak Normal   \n",
            "397  397  12.0          80.0     1.020      0.0    0.0  Tidak Normal   \n",
            "398  398  17.0          60.0     1.025      0.0    0.0  Tidak Normal   \n",
            "399  399  58.0          80.0     1.025      0.0    0.0  Tidak Normal   \n",
            "\n",
            "           pussel    gds  ureum  ...  MCV  seldarahputih  seldarahmerah.1  \\\n",
            "3          Normal  117.0   56.0  ...   32           6700              3.9   \n",
            "9          Normal   70.0  107.0  ...   29          12100              3.7   \n",
            "11         Normal  380.0   60.0  ...   32           4500              3.8   \n",
            "14         Normal  157.0   90.0  ...   16          11000              2.6   \n",
            "20         Normal  173.0  148.0  ...   24           9200              3.2   \n",
            "..            ...    ...    ...  ...  ...            ...              ...   \n",
            "395  Tidak Normal  140.0   49.0  ...   47           6700              4.9   \n",
            "396  Tidak Normal   75.0   31.0  ...   54           7800              6.2   \n",
            "397  Tidak Normal  100.0   26.0  ...   49           6600              5.4   \n",
            "398  Tidak Normal  114.0   50.0  ...   51           7200              5.9   \n",
            "399  Tidak Normal  131.0   18.0  ...   53           6800              6.1   \n",
            "\n",
            "     hipertensi diabetes    cad nafsumakan  edema anemia klasifikasi  \n",
            "3           Iya    Tidak  Tidak      buruk    Iya    Iya         ckd  \n",
            "9           Iya      Iya  Tidak      buruk  Tidak    Iya         ckd  \n",
            "11          Iya      Iya  Tidak      buruk    Iya  Tidak         ckd  \n",
            "14          Iya      Iya    Iya      buruk    Iya  Tidak         ckd  \n",
            "20          Iya      Iya    Iya      buruk    Iya    Iya         ckd  \n",
            "..          ...      ...    ...        ...    ...    ...         ...  \n",
            "395       Tidak    Tidak  Tidak       baik  Tidak  Tidak   Tidaktckd  \n",
            "396       Tidak    Tidak  Tidak       baik  Tidak  Tidak   Tidaktckd  \n",
            "397       Tidak    Tidak  Tidak       baik  Tidak  Tidak   Tidaktckd  \n",
            "398       Tidak    Tidak  Tidak       baik  Tidak  Tidak   Tidaktckd  \n",
            "399       Tidak    Tidak  Tidak       baik  Tidak  Tidak   Tidaktckd  \n",
            "\n",
            "[159 rows x 24 columns]\n",
            "159\n"
          ]
        }
      ],
      "source": [
        "import pandas as pd\n",
        "\n",
        "# Load the CSV file into a DataFrame\n",
        "ginjal = pd.read_csv('/content/penyakit_ginjal_kronik-1.csv')\n",
        "print(ginjal)\n",
        "print(len(ginjal))\n",
        "print(\"------------------------------------------------------------------------\")\n",
        "# Drop rows with missing values (NaN)\n",
        "ginjal_droppedna = ginjal.dropna()\n",
        "print(ginjal_droppedna)\n",
        "\n",
        "# Replace 'yes' with 'Iya' in specific columns\n",
        "ginjal_droppedna = ginjal_droppedna.replace({\n",
        "    'hipertensi': {'yes': 'Iya'},\n",
        "    'diabetes': {'yes': 'Iya'},\n",
        "    'cad': {'yes': 'Iya'},\n",
        "    'edema': {'yes': 'Iya'},\n",
        "    'anemia': {'yes': 'Iya'}\n",
        "})\n",
        "\n",
        "# Display the modified DataFrame\n",
        "print(ginjal_droppedna)\n",
        "print(len(ginjal_droppedna))\n"
      ]
    },
    {
      "cell_type": "markdown",
      "source": [
        "# **Data Cleaning DUPLICATES**"
      ],
      "metadata": {
        "id": "nlz1r1h69W-s"
      }
    },
    {
      "cell_type": "code",
      "source": [
        "import pandas as pd\n",
        "\n",
        "# Load the CSV file into a DataFrame\n",
        "netflix = pd.read_csv('/content/netflix_titles-1.csv')\n",
        "# Set 'show_id' as the index of the DataFrame\n",
        "netflix = netflix.set_index('show_id')\n",
        "print(len(netflix))\n",
        "print(netflix[netflix.duplicated(keep='last')].index)\n",
        "# print(netflix[netflix.duplicated(keep='last')].index.unique())\n",
        "netflix_drop_duplicated = netflix.drop_duplicates()\n",
        "# print(netflix_drop_duplicated)\n",
        "print(len(netflix_drop_duplicated))"
      ],
      "metadata": {
        "colab": {
          "base_uri": "https://localhost:8080/"
        },
        "id": "fyoOmLcD-t-9",
        "outputId": "9cc603c1-052f-4755-dae8-46b64945c5c6"
      },
      "execution_count": 40,
      "outputs": [
        {
          "output_type": "stream",
          "name": "stdout",
          "text": [
            "108\n",
            "Index(['s2', 's24', 's2', 's69', 's20', 's89', 's47', 's20', 's89'], dtype='object', name='show_id')\n",
            "99\n"
          ]
        }
      ]
    }
  ]
}