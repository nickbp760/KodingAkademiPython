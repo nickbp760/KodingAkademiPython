{
  "nbformat": 4,
  "nbformat_minor": 0,
  "metadata": {
    "colab": {
      "provenance": []
    },
    "kernelspec": {
      "name": "python3",
      "display_name": "Python 3"
    },
    "language_info": {
      "name": "python"
    }
  },
  "cells": [
    {
      "cell_type": "markdown",
      "source": [
        "# **READING DB DATA**"
      ],
      "metadata": {
        "id": "lvbafNU8tPj_"
      }
    },
    {
      "cell_type": "code",
      "execution_count": 14,
      "metadata": {
        "id": "miUIztrhtH0X"
      },
      "outputs": [],
      "source": [
        "import sqlite3\n",
        "import pandas as pd\n",
        "# Path to the SQLite database file\n",
        "db_path = '/content/chinook.db'\n",
        "connection = sqlite3.connect(db_path)\n",
        "cursor = connection.cursor()\n",
        "cursor.execute(\"SELECT * FROM employees\")\n",
        "rows = cursor.fetchall()\n",
        "databases = pd.DataFrame(rows)\n",
        "databases.columns = [column[0] for column in cursor.description]\n",
        "databases['City'] = databases['City'].apply(lambda x: 'Toronto' if x != 'Calgary' else 'Calgary')\n",
        "# databases.loc[databases['City'] != 'Calgary', 'City'] = 'Toronto'\n",
        "calgary_data = databases[databases['City'] == 'Calgary']\n",
        "# print(databases.head())\n",
        "# print(calgary_data.head())"
      ]
    }
  ]
}