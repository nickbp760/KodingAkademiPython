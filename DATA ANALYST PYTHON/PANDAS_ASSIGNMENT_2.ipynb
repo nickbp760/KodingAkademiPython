{
  "cells": [
    {
      "cell_type": "markdown",
      "metadata": {
        "id": "DMjY9kClhMsY"
      },
      "source": [
        "# **PANDAS EXTERNAL DATA**"
      ]
    },
    {
      "cell_type": "code",
      "execution_count": 5,
      "metadata": {
        "colab": {
          "base_uri": "https://localhost:8080/"
        },
        "id": "3ol1_MgLfsPw",
        "outputId": "9efe643f-f41f-4a56-e88b-321eb824ee1d"
      },
      "outputs": [
        {
          "name": "stdout",
          "output_type": "stream",
          "text": [
            "    Paket      Kota                      Destinasi 1  \\\n",
            "0       1   Jakarta                Pasar Tanah Abang   \n",
            "1       2   Jakarta                Pasar Tanah Abang   \n",
            "2       3   Jakarta            Perpustakaan Nasional   \n",
            "3       4   Jakarta                     Pulau Tidung   \n",
            "4       5   Jakarta            Museum Satria Mandala   \n",
            "..    ...       ...                              ...   \n",
            "95     96  Surabaya      Ekowisata Mangrove Wonorejo   \n",
            "96     97  Surabaya                Ciputra Waterpark   \n",
            "97     98  Surabaya    Museum Kesehatan Dr. Adhyatma   \n",
            "98     99  Surabaya  Taman Ekspresi Dan Perpustakaan   \n",
            "99    100  Surabaya              Taman Buah Surabaya   \n",
            "\n",
            "                 Destinasi 2                     Destinasi 3  \\\n",
            "0               Taman Ayodya                  Museum Tekstil   \n",
            "1         Pasar Taman Puring            Pasar Petak Sembilan   \n",
            "2                      Monas                 Masjid Istiqlal   \n",
            "3             Pulau Bidadari                      Pulau Pari   \n",
            "4              Museum Wayang           Museum Bahari Jakarta   \n",
            "..                       ...                             ...   \n",
            "95     Taman Harmoni Keputih             Taman Kunang-Kunang   \n",
            "96             Kenjeran Park         Kebun Binatang Surabaya   \n",
            "97  Patung Buddha Empat Rupa            Taman Hiburan Rakyat   \n",
            "98   Museum De Javasche Bank  Surabaya Museum (Gedung Siola)   \n",
            "99       Hutan Bambu Keputih                Taman Barunawati   \n",
            "\n",
            "                                          Destinasi 4  \\\n",
            "0                                                 NaN   \n",
            "1                                                 NaN   \n",
            "2                                                 NaN   \n",
            "3                                       Pulau Pramuka   \n",
            "4   Museum Macan (Modern and Contemporary Art in N...   \n",
            "..                                                ...   \n",
            "95                    Taman Ekspresi Dan Perpustakaan   \n",
            "96                        Food Junction Grand Pakuwon   \n",
            "97                                      Taman Bungkul   \n",
            "98                                Museum Mpu Tantular   \n",
            "99                               Kebun Bibit Wonorejo   \n",
            "\n",
            "                         Destinasi 5  \n",
            "0                                NaN  \n",
            "1                                NaN  \n",
            "2                                NaN  \n",
            "3                      Pulau Pelangi  \n",
            "4                                NaN  \n",
            "..                               ...  \n",
            "95           Museum De Javasche Bank  \n",
            "96          | Atlantis Land Surabaya  \n",
            "97      Taman Flora Bratang Surabaya  \n",
            "98  Taman Air Mancur Menari Kenjeran  \n",
            "99                       Taman Mundu  \n",
            "\n",
            "[100 rows x 7 columns]\n",
            "Index(['Paket', 'Kota', 'Destinasi 1', 'Destinasi 2', 'Destinasi 3',\n",
            "       'Destinasi 4', 'Destinasi 5'],\n",
            "      dtype='object')\n"
          ]
        }
      ],
      "source": [
        "import pandas as pd\n",
        "tourism = pd.read_csv('/content/package_tourism.csv')\n",
        "\n",
        "tourism.columns = ['Paket', 'Kota', 'Destinasi 1', 'Destinasi 2', 'Destinasi 3', 'Destinasi 4', 'Destinasi 5']\n",
        "print(tourism)\n",
        "print(tourism.columns)\n",
        "\n"
      ]
    },
    {
      "cell_type": "markdown",
      "metadata": {
        "id": "Hw-mGTIhun4S"
      },
      "source": [
        "# **PANDAS MINI PROJECT**"
      ]
    },
    {
      "cell_type": "code",
      "execution_count": 73,
      "metadata": {
        "colab": {
          "base_uri": "https://localhost:8080/"
        },
        "id": "paopJu_HhjN1",
        "outputId": "ab744641-6a1d-435a-eac6-0099c67cd787"
      },
      "outputs": [
        {
          "name": "stdout",
          "output_type": "stream",
          "text": [
            "     year                 area               country  January  February  \\\n",
            "0    2019        ASIA PACIFIC             AUSTRALIAN    95536     67474   \n",
            "1    2019        ASIA PACIFIC                 BHUTAN       60        30   \n",
            "2    2019        ASIA PACIFIC             BANGLADESH     2262      2094   \n",
            "3    2019        ASIA PACIFIC                   FIJI       91        73   \n",
            "4    2019        ASIA PACIFIC               HONGKONG     1313      1367   \n",
            "..    ...                  ...                   ...      ...       ...   \n",
            "357  2018          MIDDLE EAST                TURKEY      899       615   \n",
            "358  2018          MIDDLE EAST  UNITED ARAB EMIRATES      170       132   \n",
            "359  2018          MIDDLE EAST                 YAMAN       98        49   \n",
            "360  2018          MIDDLE EAST                JORDAN      225       153   \n",
            "361  2018  OTHER NATIONALITIES   OTHER NATIONALITIES     6952      1704   \n",
            "\n",
            "     March    April    May    June    July  August  September  October  \\\n",
            "0    83002  90265.0  98625  110815  123293  118556     124416   119382   \n",
            "1       47     38.0     31      31      46      67         43       32   \n",
            "2     2489   2264.0   1938    4265    2656    2307       2035     2371   \n",
            "3       72     77.0     42      62    2656      80         68       78   \n",
            "4      764      6.0      1       5       2       1          0       11   \n",
            "..     ...      ...    ...     ...     ...     ...        ...      ...   \n",
            "357    750    960.0    712     909    1306    1630        979      707   \n",
            "358    266    264.0    111     293     375     306        164      151   \n",
            "359     76     55.0     23      62      40      52         67       37   \n",
            "360    236    352.0    150     260     389     448        283      255   \n",
            "361   1771   2484.0   2167    3711    2054    1269       1762     2604   \n",
            "\n",
            "     November  December  \n",
            "0      105312    110711  \n",
            "1          56        60  \n",
            "2        2164      2671  \n",
            "3          89       189  \n",
            "4           0        45  \n",
            "..        ...       ...  \n",
            "357       514       521  \n",
            "358       147       201  \n",
            "359        60        85  \n",
            "360       218       254  \n",
            "361      3298       673  \n",
            "\n",
            "[362 rows x 15 columns] \n",
            "\n",
            "      January  February   March     April     May    June    July  August  \\\n",
            "year                                                                        \n",
            "2018   358065    452423  492678  516777.0  528512  544550  624366  573766   \n",
            "2019   456218    437537  449637  476327.0  485634  549751  594279  616706   \n",
            "\n",
            "      September  October  November  December  Jumlah Total      Rata-Rata  \\\n",
            "year                                                                        \n",
            "2018     555903   517889    407213    501211     6073353.0  506112.750000   \n",
            "2019     590565   568064    497925    552402     6275045.0  522920.416667   \n",
            "\n",
            "      Total Turis Paling Banyak Bulan Turis Paling Banyak  \\\n",
            "year                                                        \n",
            "2018                   624366.0                      July   \n",
            "2019                   616706.0                    August   \n",
            "\n",
            "      Total Turis Paling Sedikit Bulan Turis Paling Sedikit  \n",
            "year                                                         \n",
            "2018                    358065.0                    January  \n",
            "2019                    437537.0                   February   \n",
            "\n",
            "--------------------------------------------------------------------------\n",
            "year  area               \n",
            "2018  AFRICA                   54491.0\n",
            "      AMERICA                 367639.0\n",
            "      ASEAN                   514324.0\n",
            "      ASIA PACIFIC           3653078.0\n",
            "      EUROPE                 1392795.0\n",
            "      MIDDLE EAST              60577.0\n",
            "      OTHER NATIONALITIES      30449.0\n",
            "2019  AFRICA                   66474.0\n",
            "      AMERICA                 415262.0\n",
            "      ASEAN                   579627.0\n",
            "      ASIA PACIFIC           3614482.0\n",
            "      EUROPE                 1485287.0\n",
            "      MIDDLE EAST              75659.0\n",
            "      OTHER NATIONALITIES      38254.0\n",
            "dtype: float64\n",
            "year\n",
            "2018    (2018, ASIA PACIFIC )\n",
            "2019    (2019, ASIA PACIFIC )\n",
            "dtype: object\n",
            "year\n",
            "2018    3653078.0\n",
            "2019    3614482.0\n",
            "dtype: float64\n"
          ]
        }
      ],
      "source": [
        "import pandas as pd\n",
        "bali = pd.read_csv('/content/bali_tourist.csv')\n",
        "\n",
        "print(bali, '\\n')\n",
        "months = ['January', 'February', 'March', 'April', 'May', 'June', 'July', 'August', 'September', 'October', 'November', 'December']\n",
        "bulan_bali = bali.groupby('year')[months].sum()\n",
        "bulan_bali_analisa =  bulan_bali.copy()\n",
        "bulan_bali_analisa[\"Jumlah Total\"] = bulan_bali.sum(axis=1)\n",
        "bulan_bali_analisa[\"Rata-Rata\"] = bulan_bali.mean(axis=1)\n",
        "bulan_bali_analisa[\"Total Turis Paling Banyak\"] = bulan_bali.max(axis=1)\n",
        "bulan_bali_analisa[\"Bulan Turis Paling Banyak\"] = bulan_bali.idxmax(axis=1)\n",
        "bulan_bali_analisa[\"Total Turis Paling Sedikit\"] = bulan_bali.min(axis=1)\n",
        "bulan_bali_analisa[\"Bulan Turis Paling Sedikit\"] = bulan_bali.idxmin(axis=1)\n",
        "print(bulan_bali_analisa, '\\n')\n",
        "print(\"--------------------------------------------------------------------------\")\n",
        "bali_area_tahun = bali.groupby(['year', 'area'])[months].sum().sum(axis=1)\n",
        "print(bali_area_tahun)\n",
        "print(bali_area_tahun.groupby('year').idxmax())\n",
        "print(bali_area_tahun.groupby('year').max() )"
      ]
    }
  ],
  "metadata": {
    "colab": {
      "provenance": []
    },
    "kernelspec": {
      "display_name": "Python 3",
      "name": "python3"
    },
    "language_info": {
      "name": "python"
    }
  },
  "nbformat": 4,
  "nbformat_minor": 0
}
